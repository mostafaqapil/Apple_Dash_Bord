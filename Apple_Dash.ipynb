{
 "cells": [
  {
   "cell_type": "code",
   "execution_count": 23,
   "metadata": {},
   "outputs": [],
   "source": [
    "import dash\n",
    "from dash import dcc, html\n",
    "import plotly.graph_objs as go\n",
    "import yfinance as yf\n",
    "import plotly.express as px\n",
    "from dash.dependencies import Input, Output\n",
    "import numpy as np\n",
    "import plotly.graph_objects as go"
   ]
  },
  {
   "cell_type": "code",
   "execution_count": 6,
   "metadata": {},
   "outputs": [],
   "source": [
    "apple_data = yf.Ticker(\"AAPL\")\n",
    "hist = apple_data.history(start=\"2020-01-01\", end=\"2023-12-31\")"
   ]
  },
  {
   "cell_type": "code",
   "execution_count": 7,
   "metadata": {},
   "outputs": [
    {
     "data": {
      "text/html": [
       "<div>\n",
       "<style scoped>\n",
       "    .dataframe tbody tr th:only-of-type {\n",
       "        vertical-align: middle;\n",
       "    }\n",
       "\n",
       "    .dataframe tbody tr th {\n",
       "        vertical-align: top;\n",
       "    }\n",
       "\n",
       "    .dataframe thead th {\n",
       "        text-align: right;\n",
       "    }\n",
       "</style>\n",
       "<table border=\"1\" class=\"dataframe\">\n",
       "  <thead>\n",
       "    <tr style=\"text-align: right;\">\n",
       "      <th></th>\n",
       "      <th>Open</th>\n",
       "      <th>High</th>\n",
       "      <th>Low</th>\n",
       "      <th>Close</th>\n",
       "      <th>Volume</th>\n",
       "      <th>Dividends</th>\n",
       "      <th>Stock Splits</th>\n",
       "    </tr>\n",
       "    <tr>\n",
       "      <th>Date</th>\n",
       "      <th></th>\n",
       "      <th></th>\n",
       "      <th></th>\n",
       "      <th></th>\n",
       "      <th></th>\n",
       "      <th></th>\n",
       "      <th></th>\n",
       "    </tr>\n",
       "  </thead>\n",
       "  <tbody>\n",
       "    <tr>\n",
       "      <th>2020-01-02 00:00:00-05:00</th>\n",
       "      <td>71.878871</td>\n",
       "      <td>72.936773</td>\n",
       "      <td>71.624105</td>\n",
       "      <td>72.876114</td>\n",
       "      <td>135480400</td>\n",
       "      <td>0.0</td>\n",
       "      <td>0.0</td>\n",
       "    </tr>\n",
       "    <tr>\n",
       "      <th>2020-01-03 00:00:00-05:00</th>\n",
       "      <td>72.099664</td>\n",
       "      <td>72.931908</td>\n",
       "      <td>71.941952</td>\n",
       "      <td>72.167603</td>\n",
       "      <td>146322800</td>\n",
       "      <td>0.0</td>\n",
       "      <td>0.0</td>\n",
       "    </tr>\n",
       "    <tr>\n",
       "      <th>2020-01-06 00:00:00-05:00</th>\n",
       "      <td>71.284423</td>\n",
       "      <td>72.781491</td>\n",
       "      <td>71.032078</td>\n",
       "      <td>72.742668</td>\n",
       "      <td>118387200</td>\n",
       "      <td>0.0</td>\n",
       "      <td>0.0</td>\n",
       "    </tr>\n",
       "    <tr>\n",
       "      <th>2020-01-07 00:00:00-05:00</th>\n",
       "      <td>72.752363</td>\n",
       "      <td>73.009558</td>\n",
       "      <td>72.179742</td>\n",
       "      <td>72.400543</td>\n",
       "      <td>108872000</td>\n",
       "      <td>0.0</td>\n",
       "      <td>0.0</td>\n",
       "    </tr>\n",
       "    <tr>\n",
       "      <th>2020-01-08 00:00:00-05:00</th>\n",
       "      <td>72.102098</td>\n",
       "      <td>73.868497</td>\n",
       "      <td>72.102098</td>\n",
       "      <td>73.565201</td>\n",
       "      <td>132079200</td>\n",
       "      <td>0.0</td>\n",
       "      <td>0.0</td>\n",
       "    </tr>\n",
       "  </tbody>\n",
       "</table>\n",
       "</div>"
      ],
      "text/plain": [
       "                                Open       High        Low      Close  \\\n",
       "Date                                                                    \n",
       "2020-01-02 00:00:00-05:00  71.878871  72.936773  71.624105  72.876114   \n",
       "2020-01-03 00:00:00-05:00  72.099664  72.931908  71.941952  72.167603   \n",
       "2020-01-06 00:00:00-05:00  71.284423  72.781491  71.032078  72.742668   \n",
       "2020-01-07 00:00:00-05:00  72.752363  73.009558  72.179742  72.400543   \n",
       "2020-01-08 00:00:00-05:00  72.102098  73.868497  72.102098  73.565201   \n",
       "\n",
       "                              Volume  Dividends  Stock Splits  \n",
       "Date                                                           \n",
       "2020-01-02 00:00:00-05:00  135480400        0.0           0.0  \n",
       "2020-01-03 00:00:00-05:00  146322800        0.0           0.0  \n",
       "2020-01-06 00:00:00-05:00  118387200        0.0           0.0  \n",
       "2020-01-07 00:00:00-05:00  108872000        0.0           0.0  \n",
       "2020-01-08 00:00:00-05:00  132079200        0.0           0.0  "
      ]
     },
     "execution_count": 7,
     "metadata": {},
     "output_type": "execute_result"
    }
   ],
   "source": [
    "hist.head()"
   ]
  },
  {
   "cell_type": "code",
   "execution_count": 8,
   "metadata": {},
   "outputs": [
    {
     "name": "stdout",
     "output_type": "stream",
     "text": [
      "Index(['Open', 'High', 'Low', 'Close', 'Volume', 'Dividends', 'Stock Splits'], dtype='object')\n"
     ]
    }
   ],
   "source": [
    "print(hist.columns)"
   ]
  },
  {
   "cell_type": "code",
   "execution_count": 9,
   "metadata": {},
   "outputs": [],
   "source": [
    "hist_reset = hist.reset_index()"
   ]
  },
  {
   "cell_type": "code",
   "execution_count": 10,
   "metadata": {},
   "outputs": [
    {
     "name": "stdout",
     "output_type": "stream",
     "text": [
      "                       Date       Open       High        Low      Close  \\\n",
      "0 2020-01-02 00:00:00-05:00  71.878871  72.936773  71.624105  72.876114   \n",
      "1 2020-01-03 00:00:00-05:00  72.099664  72.931908  71.941952  72.167603   \n",
      "2 2020-01-06 00:00:00-05:00  71.284423  72.781491  71.032078  72.742668   \n",
      "3 2020-01-07 00:00:00-05:00  72.752363  73.009558  72.179742  72.400543   \n",
      "4 2020-01-08 00:00:00-05:00  72.102098  73.868497  72.102098  73.565201   \n",
      "\n",
      "      Volume  Dividends  Stock Splits  \n",
      "0  135480400        0.0           0.0  \n",
      "1  146322800        0.0           0.0  \n",
      "2  118387200        0.0           0.0  \n",
      "3  108872000        0.0           0.0  \n",
      "4  132079200        0.0           0.0  \n"
     ]
    }
   ],
   "source": [
    "print(hist_reset.head())"
   ]
  },
  {
   "cell_type": "code",
   "execution_count": 11,
   "metadata": {},
   "outputs": [
    {
     "name": "stdout",
     "output_type": "stream",
     "text": [
      "Index(['Date', 'Open', 'High', 'Low', 'Close', 'Volume', 'Dividends',\n",
      "       'Stock Splits'],\n",
      "      dtype='object')\n"
     ]
    }
   ],
   "source": [
    "print(hist_reset.columns)"
   ]
  },
  {
   "cell_type": "code",
   "execution_count": 12,
   "metadata": {},
   "outputs": [
    {
     "data": {
      "text/plain": [
       "Date            0\n",
       "Open            0\n",
       "High            0\n",
       "Low             0\n",
       "Close           0\n",
       "Volume          0\n",
       "Dividends       0\n",
       "Stock Splits    0\n",
       "dtype: int64"
      ]
     },
     "execution_count": 12,
     "metadata": {},
     "output_type": "execute_result"
    }
   ],
   "source": [
    "hist_reset.isnull().sum()"
   ]
  },
  {
   "cell_type": "code",
   "execution_count": 32,
   "metadata": {},
   "outputs": [
    {
     "data": {
      "text/html": [
       "\n",
       "        <iframe\n",
       "            width=\"100%\"\n",
       "            height=\"650\"\n",
       "            src=\"http://127.0.0.1:8050/\"\n",
       "            frameborder=\"0\"\n",
       "            allowfullscreen\n",
       "            \n",
       "        ></iframe>\n",
       "        "
      ],
      "text/plain": [
       "<IPython.lib.display.IFrame at 0x142d59c2650>"
      ]
     },
     "metadata": {},
     "output_type": "display_data"
    }
   ],
   "source": [
    "\n",
    "fig_1 = px.line(hist_reset, x='Date', y='Close', title=\"Apple Stock Prices\")\n",
    "fig_2 = px.scatter(hist_reset, x='High', y='Close', title='Close vs High')\n",
    "hist_reset['Volatility'] = hist_reset['High'] - hist_reset['Low']\n",
    "fig_3 = px.line(hist_reset, x='Date', y='Volatility', title='Daily Volatility')\n",
    "fig_4 = go.Figure(data=[go.Candlestick(\n",
    "                x=hist_reset['Date'],\n",
    "                open=hist_reset['Open'],\n",
    "                high=hist_reset['High'],\n",
    "                low=hist_reset['Low'],\n",
    "                close=hist_reset['Close'],\n",
    ")])\n",
    "fig_4.update_layout(title='Apple Stock Candlestick Chart')\n",
    "fig_5 = px.bar(hist_reset, x='Date', y='Volume',color='Volume', title='Trading Volume Over Time')\n",
    "fig_6 = px.area(hist_reset, x='Date', y='Close', title='Apple Stock Prices Over Time')\n",
    "fig_7 = px.histogram(hist_reset, x='Close', title='Distribution of Closing Prices')\n",
    "fig_8 = px.pie(hist_reset, names='Date', values='Volume', title='Volume Distribution Over Time')\n",
    "fig_9 = px.imshow(hist_reset.corr(), text_auto=True, title='Correlation Heatmap')\n",
    "fig_10 = px.box(hist_reset, y='Close', title='Box Plot of Closing Prices')\n",
    "#fig_11 = px.line(hist_reset, x='Date', y='Volume', title='Trading Volume Over Time', animation_frame='Date')\n",
    "#fig_11.update_layout(title='Trading Volume Over Time with Animation')\n",
    "\n",
    "\n",
    "app = dash.Dash(__name__)\n",
    "\n",
    "app.layout = html.Div(style={'background': '#f0f0f0'}, children= [\n",
    "        html.H1(\"Apple Stock Dashboard (2020-2023)\"),\n",
    "        dcc.Graph(figure=fig_1),\n",
    "        dcc.Graph(figure=fig_2),\n",
    "        dcc.Graph(figure=fig_3),\n",
    "        dcc.Graph(figure=fig_4),\n",
    "        dcc.Graph(figure=fig_5),\n",
    "        dcc.Graph(figure=fig_6),\n",
    "        dcc.Graph(figure=fig_7),\n",
    "        dcc.Graph(figure=fig_8),\n",
    "        dcc.Graph(figure=fig_9),\n",
    "        dcc.Graph(figure=fig_10),\n",
    "        #dcc.Graph(figure=fig_11),\n",
    "\n",
    "\n",
    "])\n",
    "\n",
    "\n",
    "\n",
    "app.run_server(debug=True)\n"
   ]
  },
  {
   "cell_type": "code",
   "execution_count": null,
   "metadata": {},
   "outputs": [],
   "source": []
  },
  {
   "cell_type": "code",
   "execution_count": null,
   "metadata": {},
   "outputs": [],
   "source": []
  },
  {
   "cell_type": "code",
   "execution_count": null,
   "metadata": {},
   "outputs": [],
   "source": []
  },
  {
   "cell_type": "code",
   "execution_count": null,
   "metadata": {},
   "outputs": [],
   "source": []
  }
 ],
 "metadata": {
  "kernelspec": {
   "display_name": "Python 3",
   "language": "python",
   "name": "python3"
  },
  "language_info": {
   "codemirror_mode": {
    "name": "ipython",
    "version": 3
   },
   "file_extension": ".py",
   "mimetype": "text/x-python",
   "name": "python",
   "nbconvert_exporter": "python",
   "pygments_lexer": "ipython3",
   "version": "3.11.9"
  }
 },
 "nbformat": 4,
 "nbformat_minor": 2
}
